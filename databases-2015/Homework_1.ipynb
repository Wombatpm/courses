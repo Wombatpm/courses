{
 "metadata": {
  "name": "",
  "signature": "sha256:9787e87bbe19e295eb56e3a067c39c0bdc78ad97fc1f127d9ad85f86519e93fd"
 },
 "nbformat": 3,
 "nbformat_minor": 0,
 "worksheets": [
  {
   "cells": [
    {
     "cell_type": "markdown",
     "metadata": {},
     "source": [
      "#Data and Databases: Homework Assignment #1\n",
      "\n",
      "This homework assignment takes the form of an IPython Notebook. There are a number of exercises below, with notebook cells that need to be completed in order to meet particular criteria. Your job is to fill in the cells as appropriate.\n",
      "\n",
      "You'll need to download this notebook file to your computer before you can complete the assignment. To do so, follow these steps:\n",
      "\n",
      "1. Make sure you're viewing this notebook in Github.\n",
      "2. Ctrl+click (or right click) on the \"Raw\" button in the Github interface, and select \"Save Link As...\" or your browser's equivalent. Save the file in a convenient location on your own computer.\n",
      "3. Rename the notebook file to include *your own name* somewhere in the filename (e.g., `Homework_1_Allison_Parrish.ipynb`).\n",
      "4. Open the notebook on your computer using your locally installed version of IPython Notebook.\n",
      "5. When you've completed the notebook to your satisfaction, e-mail the completed file to the address of the teaching assistant (as discussed in class)."
     ]
    },
    {
     "cell_type": "markdown",
     "metadata": {},
     "source": [
      "##Some data\n",
      "\n",
      "In the following cell, I've taken the liberty of defining a Python data structure with the data you'll be using in these homework problems. It's a variable called `planets`, and it contains a list of dictionaries, each of which represents information about a planet in our solar system. Make sure you run this cell *before* you attempt to complete any of the other problems in this assignment."
     ]
    },
    {
     "cell_type": "code",
     "collapsed": false,
     "input": [
      "planets = [\n",
      " {'diameter': 0.382,\n",
      "  'mass': 0.06,\n",
      "  'moons': 0,\n",
      "  'name': 'Mercury',\n",
      "  'orbital_period': 0.24,\n",
      "  'rings': 'no',\n",
      "  'type': 'terrestrial'},\n",
      " {'diameter': 0.949,\n",
      "  'mass': 0.82,\n",
      "  'moons': 0,\n",
      "  'name': 'Venus',\n",
      "  'orbital_period': 0.62,\n",
      "  'rings': 'no',\n",
      "  'type': 'terrestrial'},\n",
      " {'diameter': 1.00,\n",
      "  'mass': 1.00,\n",
      "  'moons': 1,\n",
      "  'name': 'Earth',\n",
      "  'orbital_period': 1.00,\n",
      "  'rings': 'no',\n",
      "  'type': 'terrestrial'},\n",
      " {'diameter': 0.532,\n",
      "  'mass': 0.11,\n",
      "  'moons': 2,\n",
      "  'name': 'Mars',\n",
      "  'orbital_period': 1.88,\n",
      "  'rings': 'no',\n",
      "  'type': 'terrestrial'},\n",
      " {'diameter': 11.209,\n",
      "  'mass': 317.8,\n",
      "  'moons': 67,\n",
      "  'name': 'Jupiter',\n",
      "  'orbital_period': 11.86,\n",
      "  'rings': 'yes',\n",
      "  'type': 'gas giant'},\n",
      " {'diameter': 9.449,\n",
      "  'mass': 95.2,\n",
      "  'moons': 62,\n",
      "  'name': 'Saturn',\n",
      "  'orbital_period': 29.46,\n",
      "  'rings': 'yes',\n",
      "  'type': 'gas giant'},\n",
      " {'diameter': 4.007,\n",
      "  'mass': 14.6,\n",
      "  'moons': 27,\n",
      "  'name': 'Uranus',\n",
      "  'orbital_period': 84.01,\n",
      "  'rings': 'yes',\n",
      "  'type': 'ice giant'},\n",
      " {'diameter': 3.883,\n",
      "  'mass': 17.2,\n",
      "  'moons': 14,\n",
      "  'name': 'Neptune',\n",
      "  'orbital_period': 164.8,\n",
      "  'rings': 'yes',\n",
      "  'type': 'ice giant'}]"
     ],
     "language": "python",
     "metadata": {},
     "outputs": [],
     "prompt_number": 4
    },
    {
     "cell_type": "markdown",
     "metadata": {},
     "source": [
      "##Problem set 1: List comprehensions and randomness\n",
      "\n",
      "In the cell below, write a list comprehension with `planets` as its source list that evaluates to a list of the names of all planets that have fewer than 10 moons.\n",
      "\n",
      "Expected output: `['Mercury', 'Venus', 'Earth', 'Mars']`"
     ]
    },
    {
     "cell_type": "code",
     "collapsed": false,
     "input": [],
     "language": "python",
     "metadata": {},
     "outputs": [],
     "prompt_number": 0
    },
    {
     "cell_type": "markdown",
     "metadata": {},
     "source": [
      "Great! In the cell below, write an expression that prints out the name of a randomly selected planet that has *at least* ten moons. I've already inserted the `import random` statement for you.\n",
      "\n",
      "Expected output: one of `'Jupiter'`, `'Saturn'`, `'Uranus'`, `'Neptune'`"
     ]
    },
    {
     "cell_type": "code",
     "collapsed": false,
     "input": [
      "import random\n",
      "# your code here\n"
     ],
     "language": "python",
     "metadata": {},
     "outputs": [],
     "prompt_number": 1
    },
    {
     "cell_type": "markdown",
     "metadata": {},
     "source": [
      "##Problem set 2: Sets\n",
      "\n",
      "Modify the code in the cell below so that the expression inside it evaluates to a list of all *unique* planet types. (Do this in a single expression using the `set` function and a list comprehension---don't use a `for` loop!)\n",
      "\n",
      "Expected output: `{'terrestrial', 'gas giant', 'ice giant'}` (order may vary)"
     ]
    },
    {
     "cell_type": "code",
     "collapsed": false,
     "input": [],
     "language": "python",
     "metadata": {},
     "outputs": [],
     "prompt_number": 1
    },
    {
     "cell_type": "markdown",
     "metadata": {},
     "source": [
      "Nice! In the example below, write an expression that checks to see if the string `'green cheese'` occurs in the set of unique planet types. Use the `in` operator. (You can copy the expression from the cell above that creates the set.)\n",
      "\n",
      "Expected output: `False` (unless you know something I don't about astrogeology---something very, very delicious)"
     ]
    },
    {
     "cell_type": "code",
     "collapsed": false,
     "input": [],
     "language": "python",
     "metadata": {},
     "outputs": [],
     "prompt_number": 1
    },
    {
     "cell_type": "markdown",
     "metadata": {},
     "source": [
      "##Problem set 3: Zip and dictionary comprehensions\n",
      "\n",
      "We've received new telemetry from a NASA satellite, which indicates that every planet in the solar system is populated by hordes of heretofore undetected exocrabs. The latest data about how many exocrabs live on each planet is in, and I've included it in the cell below as a variable called `exocrab_counts`:"
     ]
    },
    {
     "cell_type": "code",
     "collapsed": false,
     "input": [
      "exocrab_counts = [\n",
      "  4632,\n",
      "  809912,\n",
      "  6,\n",
      "  71322,\n",
      "  52889200,\n",
      "  12760300,\n",
      "  4063221,\n",
      "  3012297\n",
      "]"
     ],
     "language": "python",
     "metadata": {},
     "outputs": [],
     "prompt_number": 32
    },
    {
     "cell_type": "markdown",
     "metadata": {},
     "source": [
      "The exocrab counts are given in this list according to the position of the planet in the solar system, i.e., `exocrab_counts[0]` gives the number of exocrabs on Mercury (the planet nearest the sun); `exocrab_counts[1]` gives the number of exocrabs on Venus (the second planet from the sun), etc.\n",
      "\n",
      "Given this data, and the previously defined `planets` list, write an expression below that creates a *list of tuples*, in which the first item in each tuple is the name of the planet, and the second item in the tuple is *the number of exocrabs on that planet*. You'll need to use the `zip()` function and at least one list comprehension.\n",
      "\n",
      "Expected output:\n",
      "```\n",
      "[('Mercury', 4632),\n",
      " ('Venus', 809912),\n",
      " ('Earth', 6),\n",
      " ('Mars', 71322),\n",
      " ('Jupiter', 52889200),\n",
      " ('Saturn', 12760300),\n",
      " ('Uranus', 4063221),\n",
      " ('Neptune', 3012297)]\n",
      "```"
     ]
    },
    {
     "cell_type": "code",
     "collapsed": false,
     "input": [],
     "language": "python",
     "metadata": {},
     "outputs": [],
     "prompt_number": 1
    },
    {
     "cell_type": "markdown",
     "metadata": {},
     "source": [
      "Well done. Now, in the cell below, expand this expression to create a dictionary that has planet names as keys and exocrab counts as values for those keys. (Hint: What function did we discuss that takes a list of tuples and turns it into a dictionary?) Assign the resulting dictionary to a variable called `planet_to_crab`. I've included an expression at the bottom of the cell to test your dictionary out! Uncomment this expression before running the cell to check your output.\n",
      "\n",
      "Expected output: `3012297`"
     ]
    },
    {
     "cell_type": "code",
     "collapsed": false,
     "input": [
      "# your code here\n",
      "\n",
      "#planet_to_crab['Neptune']"
     ],
     "language": "python",
     "metadata": {},
     "outputs": [],
     "prompt_number": 3
    },
    {
     "cell_type": "markdown",
     "metadata": {},
     "source": [
      "##Problem set 4: Enumerate\n",
      "\n",
      "Write a `for` loop in the cell below that prints out a nicely formatted report on whether or not each planet has rings. The report should look like this:\n",
      "\n",
      "```\n",
      "1. Mercury does not have rings\n",
      "2. Venus does not have rings\n",
      "3. Earth does not have rings\n",
      "4. Mars does not have rings\n",
      "5. Jupiter has rings\n",
      "6. Saturn has rings\n",
      "7. Uranus has rings\n",
      "8. Neptune has rings\n",
      "```\n",
      "\n",
      "Your `for` loop should use `enumerate` between its `in` keyword and the `:` at the end of the line. You should also use tuple unpacking in the `for` loop's temporary variable area (between `for` and `in`) in order to get both values returned from `enumerate`."
     ]
    },
    {
     "cell_type": "code",
     "collapsed": false,
     "input": [],
     "language": "python",
     "metadata": {},
     "outputs": [],
     "prompt_number": 3
    },
    {
     "cell_type": "markdown",
     "metadata": {},
     "source": [
      "Great! Now you're cooking with gas (giants)."
     ]
    },
    {
     "cell_type": "markdown",
     "metadata": {},
     "source": [
      "##Problem set 5: Sorting and lambda\n",
      "\n",
      "In the cell below, write an expression that returns a list of planet names, ordered by the planet's mass (in ascending order). You'll likely need to use a list comprehension. For the `key` parameter of the `sorted` function (which you'll also need to use), provide a `lambda` function to get the appropriate value from each item in the list as it's sorted.\n",
      "\n",
      "Expected output: `['Mercury', 'Mars', 'Venus', 'Earth', 'Uranus', 'Neptune', 'Saturn', 'Jupiter']`\n",
      "\n",
      "(This one's tricky! Try breaking it down into smaller parts.)"
     ]
    },
    {
     "cell_type": "code",
     "collapsed": false,
     "input": [],
     "language": "python",
     "metadata": {},
     "outputs": [],
     "prompt_number": 3
    },
    {
     "cell_type": "markdown",
     "metadata": {},
     "source": [
      "Grand work. You're done! Reward yourself with a cool beverage. You deserve it!"
     ]
    }
   ],
   "metadata": {}
  }
 ]
}